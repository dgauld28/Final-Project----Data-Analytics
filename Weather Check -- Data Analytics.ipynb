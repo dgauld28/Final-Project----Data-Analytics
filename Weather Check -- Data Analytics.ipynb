{
 "cells": [
  {
   "cell_type": "markdown",
   "id": "be843d21",
   "metadata": {},
   "source": [
    "# Table of Contents"
   ]
  },
  {
   "cell_type": "markdown",
   "id": "6523edff",
   "metadata": {},
   "source": [
    "- Goals\n",
    "- Data \n",
    "  - Load the Data\n",
    "  - Data Info\n",
    "- Cleaning the data\n",
    "  - Getting rid of respondent id"
   ]
  },
  {
   "cell_type": "markdown",
   "id": "ef220d83",
   "metadata": {},
   "source": [
    "# Goals"
   ]
  },
  {
   "cell_type": "markdown",
   "id": "87cda787",
   "metadata": {},
   "source": [
    "This project will focus on weather information. The goals for this project are stated below:\n",
    "- Understand the data we are working with\n",
    "- Clean the data to make it more readable and to use in our analysis\n",
    "- Develop some questions for our data\n",
    "- Analyze variables to find trends, patterns and gain insights on our questions"
   ]
  },
  {
   "cell_type": "markdown",
   "id": "4da13e38",
   "metadata": {},
   "source": [
    "# Data"
   ]
  },
  {
   "cell_type": "code",
   "execution_count": null,
   "id": "6e6f7c7e",
   "metadata": {},
   "outputs": [],
   "source": [
    "This data was found on FiveThirtyEight below:\n",
    "    "
   ]
  }
 ],
 "metadata": {
  "kernelspec": {
   "display_name": "Python 3 (ipykernel)",
   "language": "python",
   "name": "python3"
  },
  "language_info": {
   "codemirror_mode": {
    "name": "ipython",
    "version": 3
   },
   "file_extension": ".py",
   "mimetype": "text/x-python",
   "name": "python",
   "nbconvert_exporter": "python",
   "pygments_lexer": "ipython3",
   "version": "3.9.12"
  }
 },
 "nbformat": 4,
 "nbformat_minor": 5
}
