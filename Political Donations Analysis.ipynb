{
 "cells": [
  {
   "cell_type": "markdown",
   "id": "a3e50f9d",
   "metadata": {},
   "source": [
    "## Table of Contents"
   ]
  },
  {
   "cell_type": "markdown",
   "id": "ef0a4ab5",
   "metadata": {},
   "source": [
    "- Goals\n",
    "- Data \n",
    "  - Load the Data\n",
    "  - Data Info\n",
    "- Cleaning the data\n",
    "  - Renaming Columns & Removing All Rows with NaN values\n",
    "- Exploring the Data\n",
    "  - Main Focus\n",
    "  - Daily Weather Check of All Users\n",
    "  - App or Site that an individual uses to check the weather by Age & Gender\n",
    "  - Weather likelihood on a smartwatch by Income \n",
    "  - App/Site of all users by Gender, Income & Region\n",
    "- Final Thoughts"
   ]
  },
  {
   "cell_type": "markdown",
   "id": "06fc1e50",
   "metadata": {},
   "source": [
    "## Goals"
   ]
  },
  {
   "cell_type": "markdown",
   "id": "1be34d80",
   "metadata": {},
   "source": [
    "This project will focus on political donations from team owners and comissioners from the following leagues (NBA, NFL, MLB, WNBA, NASCAR, and NHL). The goals for this project are stated below:\n",
    "- Understand the data we are working with\n",
    "- Clean the data to make it more readable and to use in our analysis\n",
    "- Develop some questions for our data\n",
    "- Analyze variables to find trends, patterns and gain insights on our questions"
   ]
  },
  {
   "cell_type": "markdown",
   "id": "716df582",
   "metadata": {},
   "source": [
    "### Data"
   ]
  },
  {
   "cell_type": "markdown",
   "id": "902e459e",
   "metadata": {},
   "source": [
    "The data was downloaded from Github:\n",
    "    \n",
    "- https://github.com/fivethirtyeight/data/blob/master/sports-political-donations/sports-political-donations.csv\n",
    "\n",
    "Feel Free to check out this article which features the data that we will be using from FiveThirtyEight:\n",
    "- https://fivethirtyeight.com/features/inside-the-political-donation-history-of-wealthy-sports-owners/"
   ]
  },
  {
   "cell_type": "markdown",
   "id": "a94ea3be",
   "metadata": {},
   "source": [
    "#### Loading our Data"
   ]
  },
  {
   "cell_type": "markdown",
   "id": "65e74b59",
   "metadata": {},
   "source": [
    "Let's import the necessary libraries that will be used for this project. We will use Pandas to get our data and display\n",
    "the first few rows of the dataset!"
   ]
  },
  {
   "cell_type": "code",
   "execution_count": 208,
   "id": "09d4c023",
   "metadata": {},
   "outputs": [],
   "source": [
    "#Sets this up with some cool features!\n",
    "%matplotlib notebook \n",
    "import pandas as pd\n",
    "import seaborn as sns\n",
    "import matplotlib.pyplot as plt\n",
    "import numpy as np\n",
    "import math"
   ]
  },
  {
   "cell_type": "code",
   "execution_count": 210,
   "id": "802ea216",
   "metadata": {},
   "outputs": [
    {
     "data": {
      "text/html": [
       "<div>\n",
       "<style scoped>\n",
       "    .dataframe tbody tr th:only-of-type {\n",
       "        vertical-align: middle;\n",
       "    }\n",
       "\n",
       "    .dataframe tbody tr th {\n",
       "        vertical-align: top;\n",
       "    }\n",
       "\n",
       "    .dataframe thead th {\n",
       "        text-align: right;\n",
       "    }\n",
       "</style>\n",
       "<table border=\"1\" class=\"dataframe\">\n",
       "  <thead>\n",
       "    <tr style=\"text-align: right;\">\n",
       "      <th></th>\n",
       "      <th>Owner</th>\n",
       "      <th>Team</th>\n",
       "      <th>League</th>\n",
       "      <th>Recipient</th>\n",
       "      <th>Amount</th>\n",
       "      <th>Election Year</th>\n",
       "      <th>Party</th>\n",
       "    </tr>\n",
       "  </thead>\n",
       "  <tbody>\n",
       "    <tr>\n",
       "      <th>0</th>\n",
       "      <td>Adam Silver</td>\n",
       "      <td>Commissioner</td>\n",
       "      <td>NBA</td>\n",
       "      <td>WRIGHT 2016</td>\n",
       "      <td>$4,000</td>\n",
       "      <td>2016</td>\n",
       "      <td>Democrat</td>\n",
       "    </tr>\n",
       "    <tr>\n",
       "      <th>1</th>\n",
       "      <td>Adam Silver</td>\n",
       "      <td>Commissioner</td>\n",
       "      <td>NBA</td>\n",
       "      <td>BIDEN FOR PRESIDENT</td>\n",
       "      <td>$2,800</td>\n",
       "      <td>2020</td>\n",
       "      <td>Democrat</td>\n",
       "    </tr>\n",
       "    <tr>\n",
       "      <th>2</th>\n",
       "      <td>Adam Silver</td>\n",
       "      <td>Commissioner</td>\n",
       "      <td>NBA</td>\n",
       "      <td>CORY 2020</td>\n",
       "      <td>$2,700</td>\n",
       "      <td>2020</td>\n",
       "      <td>Democrat</td>\n",
       "    </tr>\n",
       "    <tr>\n",
       "      <th>3</th>\n",
       "      <td>Adam Silver</td>\n",
       "      <td>Commissioner</td>\n",
       "      <td>NBA</td>\n",
       "      <td>Kamala Harris for the People</td>\n",
       "      <td>$2,700</td>\n",
       "      <td>2020</td>\n",
       "      <td>Democrat</td>\n",
       "    </tr>\n",
       "    <tr>\n",
       "      <th>4</th>\n",
       "      <td>Adam Silver</td>\n",
       "      <td>Commissioner</td>\n",
       "      <td>NBA</td>\n",
       "      <td>Win The Era PAC</td>\n",
       "      <td>$2,700</td>\n",
       "      <td>2020</td>\n",
       "      <td>Democrat</td>\n",
       "    </tr>\n",
       "  </tbody>\n",
       "</table>\n",
       "</div>"
      ],
      "text/plain": [
       "         Owner          Team League                     Recipient   Amount  \\\n",
       "0  Adam Silver  Commissioner    NBA                   WRIGHT 2016  $4,000    \n",
       "1  Adam Silver  Commissioner    NBA           BIDEN FOR PRESIDENT  $2,800    \n",
       "2  Adam Silver  Commissioner    NBA                     CORY 2020  $2,700    \n",
       "3  Adam Silver  Commissioner    NBA  Kamala Harris for the People  $2,700    \n",
       "4  Adam Silver  Commissioner    NBA               Win The Era PAC  $2,700    \n",
       "\n",
       "   Election Year     Party  \n",
       "0           2016  Democrat  \n",
       "1           2020  Democrat  \n",
       "2           2020  Democrat  \n",
       "3           2020  Democrat  \n",
       "4           2020  Democrat  "
      ]
     },
     "execution_count": 210,
     "metadata": {},
     "output_type": "execute_result"
    }
   ],
   "source": [
    "donations_data = pd.read_csv('political_donations.csv')\n",
    "donations_data.head()"
   ]
  },
  {
   "cell_type": "markdown",
   "id": "1255f44e",
   "metadata": {},
   "source": [
    "#### Data Info"
   ]
  },
  {
   "cell_type": "markdown",
   "id": "495cbdef",
   "metadata": {},
   "source": [
    "Here are some findings on the data so far:\n",
    "- 7 columns and 2,798 rows for our data\n",
    "- All columns have an object datatype except election year which is int64\n",
    "- There are some missing data in the Party column which we can remove later on\n",
    "- The column names are readable and do not need any modifications\n",
    "- The amount column can be changed to int64 for visualizations involving quanititative values "
   ]
  },
  {
   "cell_type": "code",
   "execution_count": 212,
   "id": "648aeca1",
   "metadata": {},
   "outputs": [
    {
     "data": {
      "text/plain": [
       "Index(['Owner', 'Team', 'League', 'Recipient', 'Amount', 'Election Year',\n",
       "       'Party'],\n",
       "      dtype='object')"
      ]
     },
     "execution_count": 212,
     "metadata": {},
     "output_type": "execute_result"
    }
   ],
   "source": [
    "donations_data.columns # We have a total of 7 columns to use in our project\n"
   ]
  },
  {
   "cell_type": "code",
   "execution_count": 214,
   "id": "fb47737f",
   "metadata": {},
   "outputs": [
    {
     "name": "stdout",
     "output_type": "stream",
     "text": [
      "<class 'pandas.core.frame.DataFrame'>\n",
      "RangeIndex: 2798 entries, 0 to 2797\n",
      "Data columns (total 7 columns):\n",
      " #   Column         Non-Null Count  Dtype \n",
      "---  ------         --------------  ----- \n",
      " 0   Owner          2798 non-null   object\n",
      " 1   Team           2798 non-null   object\n",
      " 2   League         2798 non-null   object\n",
      " 3   Recipient      2798 non-null   object\n",
      " 4   Amount         2798 non-null   object\n",
      " 5   Election Year  2798 non-null   int64 \n",
      " 6   Party          2789 non-null   object\n",
      "dtypes: int64(1), object(6)\n",
      "memory usage: 153.1+ KB\n"
     ]
    }
   ],
   "source": [
    "donations_data.info() #All Dtypes as Object except for election year which is int64"
   ]
  },
  {
   "cell_type": "code",
   "execution_count": 216,
   "id": "b85bdaca",
   "metadata": {},
   "outputs": [
    {
     "data": {
      "text/plain": [
       "Owner            0\n",
       "Team             0\n",
       "League           0\n",
       "Recipient        0\n",
       "Amount           0\n",
       "Election Year    0\n",
       "Party            9\n",
       "dtype: int64"
      ]
     },
     "execution_count": 216,
     "metadata": {},
     "output_type": "execute_result"
    }
   ],
   "source": [
    "# Checking for missing data\n",
    "donations_data.isnull().sum()"
   ]
  },
  {
   "cell_type": "code",
   "execution_count": 217,
   "id": "a10bb247",
   "metadata": {},
   "outputs": [
    {
     "name": "stdout",
     "output_type": "stream",
     "text": [
      "2798\n"
     ]
    }
   ],
   "source": [
    "print(len(donations_data)) # Shows how many in rows in total for our data"
   ]
  },
  {
   "cell_type": "code",
   "execution_count": 219,
   "id": "7d303ab8",
   "metadata": {},
   "outputs": [
    {
     "name": "stdout",
     "output_type": "stream",
     "text": [
      "[2016 2020 2018]\n",
      "['Democrat' nan 'Bipartisan' 'Republican'\n",
      " 'Bipartisan, but mostly Republican' 'Bipartisan, but mostly Democratic'\n",
      " 'Independent']\n"
     ]
    }
   ],
   "source": [
    "print(donations_data['Election Year'].unique())\n",
    "print(donations_data.Party.unique())"
   ]
  },
  {
   "cell_type": "code",
   "execution_count": 220,
   "id": "84c8e29c",
   "metadata": {},
   "outputs": [
    {
     "name": "stdout",
     "output_type": "stream",
     "text": [
      "       Election Year\n",
      "count    2798.000000\n",
      "mean     2017.934954\n",
      "std         1.603554\n",
      "min      2016.000000\n",
      "25%      2016.000000\n",
      "50%      2018.000000\n",
      "75%      2020.000000\n",
      "max      2020.000000\n"
     ]
    }
   ],
   "source": []
  },
  {
   "cell_type": "code",
   "execution_count": null,
   "id": "83f137b1",
   "metadata": {},
   "outputs": [],
   "source": []
  }
 ],
 "metadata": {
  "kernelspec": {
   "display_name": "Python 3 (ipykernel)",
   "language": "python",
   "name": "python3"
  },
  "language_info": {
   "codemirror_mode": {
    "name": "ipython",
    "version": 3
   },
   "file_extension": ".py",
   "mimetype": "text/x-python",
   "name": "python",
   "nbconvert_exporter": "python",
   "pygments_lexer": "ipython3",
   "version": "3.9.12"
  }
 },
 "nbformat": 4,
 "nbformat_minor": 5
}
